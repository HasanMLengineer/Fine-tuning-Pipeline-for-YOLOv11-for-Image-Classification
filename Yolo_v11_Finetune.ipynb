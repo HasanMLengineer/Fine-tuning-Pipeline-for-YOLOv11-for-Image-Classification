{
 "cells": [
  {
   "cell_type": "markdown",
   "id": "6fe1ff80",
   "metadata": {},
   "source": [
    "# Imports"
   ]
  },
  {
   "cell_type": "code",
   "execution_count": 1,
   "id": "4ae0b61e-e3f4-4cd8-9b41-2a74ce6c64d8",
   "metadata": {
    "execution": {
     "iopub.execute_input": "2025-04-11T12:38:39.528922Z",
     "iopub.status.busy": "2025-04-11T12:38:39.528164Z",
     "iopub.status.idle": "2025-04-11T12:38:41.524517Z",
     "shell.execute_reply": "2025-04-11T12:38:41.524135Z",
     "shell.execute_reply.started": "2025-04-11T12:38:39.528880Z"
    }
   },
   "outputs": [],
   "source": [
    "from ultralytics import YOLO"
   ]
  },
  {
   "cell_type": "markdown",
   "id": "20cba87d",
   "metadata": {},
   "source": [
    "# Loading Model"
   ]
  },
  {
   "cell_type": "code",
   "execution_count": 2,
   "id": "339cb0e7-c617-4b6d-afe8-604759e05197",
   "metadata": {
    "execution": {
     "iopub.execute_input": "2025-04-11T12:38:41.525261Z",
     "iopub.status.busy": "2025-04-11T12:38:41.525077Z",
     "iopub.status.idle": "2025-04-11T12:38:42.467798Z",
     "shell.execute_reply": "2025-04-11T12:38:42.467389Z",
     "shell.execute_reply.started": "2025-04-11T12:38:41.525249Z"
    },
    "scrolled": true
   },
   "outputs": [],
   "source": [
    "# Load a model\n",
    "#model = YOLO(\"yolo11n-cls.yaml\")  # build a new model from YAML\n",
    "model = YOLO(\"/mnt/SSD/hasan/Finetuning/yolo11x-cls.pt\")  # load a pretrained model (recommended for training)"
   ]
  },
  {
   "cell_type": "markdown",
   "id": "6843f939",
   "metadata": {},
   "source": [
    "# Training"
   ]
  },
  {
   "cell_type": "code",
   "execution_count": 3,
   "id": "84b688e6-082b-48d2-a2e3-972b0289545e",
   "metadata": {
    "execution": {
     "iopub.execute_input": "2025-03-25T11:07:23.810371Z",
     "iopub.status.busy": "2025-03-25T11:07:23.809980Z",
     "iopub.status.idle": "2025-03-25T11:51:54.157436Z",
     "shell.execute_reply": "2025-03-25T11:51:54.156945Z",
     "shell.execute_reply.started": "2025-03-25T11:07:23.810357Z"
    },
    "scrolled": true
   },
   "outputs": [],
   "source": [
    "# Train the model with specific training settings \n",
    "# epochs=200\n",
    "results = model.train(\n",
    "    data=\"/mnt/SSD/hasan/Finetuning/Dataset/Split_For_Yolo\", \n",
    "    epochs=200, \n",
    "    imgsz=224, \n",
    "    lr0=0.001,               # Reduced learning rate\n",
    "    #momentum=0.95,           # Increased momentum\n",
    "    #weight_decay=0.0005,     # Default weight decay\n",
    "    batch=64,                # Batch size of 32\n",
    "    #warmup_epochs=3,         # Warmup for 3 epochs\n",
    "    #cos_lr=True,             # Use cosine learning rate scheduler\n",
    "    #amp=True,                # Enable automatic mixed precision\n",
    "    #freeze=10,               # Freeze the first 10 layers for fine-tuning\n",
    "    val=True                 # Enable validation\n",
    ")"
   ]
  },
  {
   "cell_type": "markdown",
   "id": "ca1c83b5",
   "metadata": {},
   "source": [
    "# Saving"
   ]
  },
  {
   "cell_type": "code",
   "execution_count": 4,
   "id": "901a7cd5-7b03-405a-881e-77c90c2292b2",
   "metadata": {},
   "outputs": [],
   "source": [
    "source = 'http://images.cocodataset.org/val2017/000000039769.jpg'\n",
    "model.predict(source=source, save=True)"
   ]
  }
 ],
 "metadata": {
  "kernelspec": {
   "display_name": "Python 3 (ipykernel)",
   "language": "python",
   "name": "python3"
  },
  "language_info": {
   "codemirror_mode": {
    "name": "ipython",
    "version": 3
   },
   "file_extension": ".py",
   "mimetype": "text/x-python",
   "name": "python",
   "nbconvert_exporter": "python",
   "pygments_lexer": "ipython3",
   "version": "3.10.12"
  }
 },
 "nbformat": 4,
 "nbformat_minor": 5
}
